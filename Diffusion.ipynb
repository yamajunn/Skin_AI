{
 "cells": [
  {
   "cell_type": "code",
   "execution_count": 55,
   "metadata": {},
   "outputs": [],
   "source": [
    "import torch\n",
    "import torch.nn as nn\n",
    "import torch.optim as optim\n",
    "import numpy as np\n",
    "import matplotlib.pyplot as plt\n",
    "import cv2\n",
    "import os\n",
    "import torch\n",
    "from torchvision import datasets, transforms\n",
    "from PIL import Image\n",
    "import random\n",
    "# from skin_move import skin_move"
   ]
  },
  {
   "cell_type": "code",
   "execution_count": 56,
   "metadata": {},
   "outputs": [
    {
     "name": "stdout",
     "output_type": "stream",
     "text": [
      "alex_steve\n"
     ]
    }
   ],
   "source": [
    "skin_model = \"alex\"  # alex or steve\n",
    "\n",
    "folder_list = [\"alex\",\"steve\"]\n",
    "# max_file = [2,8]\n",
    "\n",
    "move_folder = \"\"\n",
    "for i in range(len(folder_list)):\n",
    "    move_folder += f\"{folder_list[i]}\"\n",
    "    if i+1 != len(folder_list):\n",
    "        move_folder += \"_\"\n",
    "print(move_folder)\n",
    "\n",
    "# skin_move(skin_model, max_file, folder_list, move_folder)"
   ]
  },
  {
   "cell_type": "code",
   "execution_count": 57,
   "metadata": {},
   "outputs": [],
   "source": [
    "class RGBADataset(torch.utils.data.Dataset):\n",
    "    def __init__(self, root, transform=None):\n",
    "        self.root = root\n",
    "        self.transform = transform\n",
    "        self.image_paths = [os.path.join(root, f) for f in os.listdir(root) if os.path.isfile(os.path.join(root, f))]\n",
    "\n",
    "    def __len__(self):\n",
    "        return len(self.image_paths)\n",
    "\n",
    "    def __getitem__(self, idx):\n",
    "        image_path = self.image_paths[idx]\n",
    "        image = Image.open(image_path).convert(\"RGBA\")\n",
    "        if self.transform:\n",
    "            image = self.transform(image)\n",
    "        return image\n",
    "\n",
    "transform = transforms.Compose([\n",
    "    transforms.Resize((64, 64)),\n",
    "    transforms.ToTensor(),\n",
    "])"
   ]
  },
  {
   "cell_type": "code",
   "execution_count": 58,
   "metadata": {},
   "outputs": [],
   "source": [
    "class DiffusionModel(nn.Module):\n",
    "    def __init__(self, input_dim, hidden_dim, output_dim):\n",
    "        super(DiffusionModel, self).__init__()\n",
    "        self.fc1 = nn.Linear(input_dim, hidden_dim)\n",
    "        self.fc2 = nn.Linear(hidden_dim, hidden_dim)\n",
    "        self.fc3 = nn.Linear(hidden_dim, output_dim)\n",
    "\n",
    "    def forward(self, x):\n",
    "        x = torch.relu(self.fc1(x))\n",
    "        x = torch.relu(self.fc2(x))\n",
    "        x = torch.sigmoid(self.fc3(x))\n",
    "        return x"
   ]
  },
  {
   "cell_type": "code",
   "execution_count": 59,
   "metadata": {},
   "outputs": [
    {
     "name": "stdout",
     "output_type": "stream",
     "text": [
      "10\n"
     ]
    }
   ],
   "source": [
    "data_path = f\"SkinData/data/{move_folder}/\"\n",
    "dataset = RGBADataset(root=data_path, transform=transform)\n",
    "print(len(dataset))"
   ]
  },
  {
   "cell_type": "code",
   "execution_count": 60,
   "metadata": {},
   "outputs": [],
   "source": [
    "device = torch.device(\"cuda\" if torch.cuda.is_available() else \"cpu\")\n",
    "num_samples = min(10, len(dataset))\n",
    "subset_indices = random.sample(range(len(dataset)), num_samples)\n",
    "sampling_dataset = [dataset[i] for i in subset_indices]\n",
    "\n",
    "dataloader = torch.utils.data.DataLoader(sampling_dataset)\n",
    "\n",
    "# モデルのインスタンス化\n",
    "input_dim = 64 * 64 * 4  # 64x64のRGBA画像\n",
    "model = DiffusionModel(input_dim=input_dim, hidden_dim=8, output_dim=input_dim)\n",
    "\n",
    "# GPUが利用可能な場合はGPUに転送\n",
    "device = torch.device(\"cuda\" if torch.cuda.is_available() else \"cpu\")\n",
    "model = model.to(device)\n",
    "\n",
    "# 損失関数とオプティマイザの定義\n",
    "criterion = nn.MSELoss()\n",
    "optimizer = optim.Adam(model.parameters(), lr=1e-3)"
   ]
  },
  {
   "cell_type": "code",
   "execution_count": 61,
   "metadata": {},
   "outputs": [
    {
     "name": "stdout",
     "output_type": "stream",
     "text": [
      "Epoch 600/600, Loss: 0.022043807432055473"
     ]
    }
   ],
   "source": [
    "num_epochs = 600\n",
    "for epoch in range(num_epochs):\n",
    "    for data in dataloader:\n",
    "        images = data\n",
    "        images = images.view(images.size(0), -1)\n",
    "        optimizer.zero_grad()\n",
    "        outputs = model(images)\n",
    "        loss = criterion(outputs, images)\n",
    "        loss.backward()\n",
    "        optimizer.step()\n",
    "    print(f\"\\rEpoch {epoch+1}/{num_epochs}, Loss: {loss.item()}\",end=\"\")"
   ]
  },
  {
   "cell_type": "code",
   "execution_count": 62,
   "metadata": {},
   "outputs": [],
   "source": [
    "generated_images = model(torch.randn(1, input_dim))\n",
    "generated_images = generated_images.view(4, 64, 64).detach().numpy()\n",
    "image_array_scaled = (np.transpose(generated_images, (1, 2, 0)) * 255).astype(np.uint8)\n",
    "img = cv2.cvtColor(image_array_scaled, cv2.COLOR_RGB2BGRA)\n",
    "# plt.imshow(cv2.cvtColor(img, cv2.COLOR_BGRA2RGB))\n",
    "# plt.axis('off')\n",
    "# plt.show()"
   ]
  },
  {
   "cell_type": "code",
   "execution_count": 63,
   "metadata": {},
   "outputs": [
    {
     "data": {
      "image/png": "[encoded data removed]",
      "text/plain": [
       "<Figure size 600x600 with 1 Axes>"
      ]
     },
     "metadata": {},
     "output_type": "display_data"
    }
   ],
   "source": [
    "h, w = img.shape[:2]\n",
    "sum_alpha = 0\n",
    "for i in range(h):\n",
    "    for j in range(w):\n",
    "        b, g, r, a = img[i, j]\n",
    "        if a <= 90:\n",
    "            img[i,j] = [0,0,0,0]\n",
    "            b, g, r, a = img[i, j]\n",
    "        if skin_model == \"alex\":\n",
    "            if (0 <= i <= 7 and 8 <= j <= 23) or (8 <= i <= 15 and 0 <= j <= 31) or (16 <= i <= 19 and 4 <= j <= 11) or (16 <= i <= 19 and 20 <= j <= 35) or (16 <= i <= 19 and 44 <= j <= 49) or (20 <= i <= 31 and 0 <= j <= 53) or (48 <= i <= 51 and 20 <= j <= 27) or (48 <= i <= 51 and 36 <= j <= 41) or (52 <= i <= 63 and 16 <= j <= 45):\n",
    "                sum_alpha += a\n",
    "                img[i,j] = [b,g,r,255]\n",
    "            elif (0 <= i <= 7 and 40 <= j <= 55) or (8 <= i <= 15 and 32 <= j <= 63) or (32 <= i <= 35 and 4 <= j <= 11) or (32 <= i <= 35 and 20 <= j <= 35) or (32 <= i <= 35 and 44 <= j <= 49) or (36 <= i <= 47 and 0 <= j <= 53) or (48 <= i <= 51 and 4 <= j <= 11) or (48 <= i <= 51 and 52 <= j <= 57) or (52 <= i <= 63 and 0 <= j <= 15) or (52 <= i <= 63 and 48 <= j <= 61):\n",
    "                img[i,j] = [min(b*1.85,255),min(g*1.8,255),min(r*1.8,255),a]\n",
    "            else:\n",
    "                img[i,j] = [0,0,0,0]\n",
    "        elif skin_model == \"steve\":\n",
    "            if (0 <= i <= 7 and 8 <= j <= 23) or (8 <= i <= 15 and 0 <= j <= 31) or (16 <= i <= 19 and 4 <= j <= 11) or (16 <= i <= 19 and 20 <= j <= 35) or (16 <= i <= 19 and 44 <= j <= 51) or (20 <= i <= 31 and 0 <= j <= 55) or (48 <= i <= 51 and 20 <= j <= 27) or (48 <= i <= 51 and 36 <= j <= 43) or (52 <= i <= 63 and 16 <= j <= 47):\n",
    "                sum_alpha += a\n",
    "                img[i,j] = [b,g,r,255]\n",
    "            elif (0 <= i <= 7 and 40 <= j <= 55) or (8 <= i <= 15 and 32 <= j <= 63) or (32 <= i <= 35 and 4 <= j <= 11) or (32 <= i <= 35 and 20 <= j <= 35) or (32 <= i <= 35 and 44 <= j <= 51) or (36 <= i <= 47 and 0 <= j <= 55) or (48 <= i <= 51 and 4 <= j <= 11) or (48 <= i <= 51 and 52 <= j <= 59) or (52 <= i <= 63 and 0 <= j <= 15) or (52 <= i <= 63 and 48 <= j <= 63):\n",
    "                img[i,j] = [min(b*1.5,255),min(g*1.5,255),min(r*1.5,255),a]\n",
    "            else:\n",
    "                img[i,j] = [0,0,0,0]\n",
    "if sum_alpha <= 340000:\n",
    "    print(sum_alpha)\n",
    "    print(\"akan\")\n",
    "dir_path = \"Created_Skin/\"\n",
    "files = os.listdir(dir_path)\n",
    "plt.figure(figsize=(6,6))\n",
    "cv2.imwrite(f'{dir_path}ai_{len(files)+1}.png', img)\n",
    "plt.imshow(cv2.cvtColor(img, cv2.COLOR_BGRA2RGB))\n",
    "plt.axis('off')\n",
    "plt.show()"
   ]
  }
 ],
 "metadata": {
  "kernelspec": {
   "display_name": "Python 3",
   "language": "python",
   "name": "python3"
  },
  "language_info": {
   "codemirror_mode": {
    "name": "ipython",
    "version": 3
   },
   "file_extension": ".py",
   "mimetype": "text/x-python",
   "name": "python",
   "nbconvert_exporter": "python",
   "pygments_lexer": "ipython3",
   "version": "3.10.5"
  }
 },
 "nbformat": 4,
 "nbformat_minor": 2
}
