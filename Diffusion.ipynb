{
 "cells": [
  {
   "cell_type": "code",
   "execution_count": null,
   "metadata": {},
   "outputs": [],
   "source": [
    "# import torch\n",
    "# import torchvision\n",
    "# from torch import nn\n",
    "# from torch.utils.data import DataLoader\n",
    "# from matplotlib import pyplot as plt\n",
    "# from torchvision import datasets\n",
    "# from torchvision import transforms\n",
    "# import numpy\n",
    "# import cv2\n",
    "\n",
    "# device = torch.device(\"cuda\" if torch.cuda.is_available() else \"cpu\")\n",
    "# print(f'Using device: {device}')\n"
   ]
  },
  {
   "cell_type": "code",
   "execution_count": null,
   "metadata": {},
   "outputs": [],
   "source": [
    "# # dataset = torchvision.datasets.MNIST(root=\"../data\", train=True, download=True, transform=torchvision.transforms.ToTensor())\n",
    "\n",
    "# transform = transforms.Compose([\n",
    "#     transforms.Resize((64, 64)),\n",
    "#     transforms.ToTensor(),\n",
    "#     ])\n",
    "# dataset = datasets.ImageFolder(root=\"SkinData/data\", transform=transform)\n",
    "# # data_loader = torch.utils.data.DataLoader(dataset)\n",
    "# # おっと、4が混ざりました。1か8か、あるいは4です。\n",
    "# # 好きな数字に変えても良いでしょう。\n",
    "# target_values = [0,1]\n",
    "\n",
    "# target_images = []\n",
    "# for data in dataset:\n",
    "#     if data[1] in target_values:\n",
    "#         target_images.append(data)\n",
    "\n",
    "# train_dataloader = DataLoader(target_images, batch_size=8, shuffle=True)"
   ]
  },
  {
   "cell_type": "code",
   "execution_count": null,
   "metadata": {},
   "outputs": [],
   "source": [
    "# def corrupt(x, amount):\n",
    "#   \"\"\"\n",
    "#     x : 入力する画像(複数), x.shape = torch.Size([batch_size, 1, 28, 28])\n",
    "#     amount : 各画像にどれだけノイズを入れるかの比率を入れたndarray, 0->そのまま, 1->完全にノイズ\n",
    "#   \"\"\"\n",
    "#   noise = torch.rand_like(x)\n",
    "#   amount = amount.view(-1, 1, 1, 1) \n",
    "#   return x*(1-amount) + noise*amount \n"
   ]
  },
  {
   "cell_type": "code",
   "execution_count": null,
   "metadata": {},
   "outputs": [],
   "source": [
    "# batch_size = 128\n",
    "# train_dataloader = DataLoader(target_images, batch_size=batch_size, shuffle=True)\n",
    "\n",
    "# max_epochs = 5\n",
    "\n",
    "# net = BasicUNet()\n",
    "# net.to(device)\n",
    "\n",
    "# loss_func = nn.MSELoss()\n",
    "# optimizer = torch.optim.Adam(net.parameters(), lr=1e-3) \n",
    "\n",
    "# history = []\n",
    "# for epoch in range(max_epochs):\n",
    "#     for x, y in train_dataloader:\n",
    "#         x = x.to(device)\n",
    "#         # どれくらいノイズを入れるかは乱数で決める\n",
    "#         noise_amount = torch.rand(x.shape[0]).to(device)\n",
    "#         noisy_x = corrupt(x, noise_amount)\n",
    "\n",
    "#         pred = net(noisy_x)\n",
    "#         loss = loss_func(pred, x)\n",
    "\n",
    "#         optimizer.zero_grad()\n",
    "#         loss.backward()\n",
    "#         optimizer.step()\n",
    "#         history.append(loss.item())\n",
    "\n",
    "#     avg_loss = sum(history[-len(train_dataloader):])/len(train_dataloader)\n",
    "#     print(f'Finished epoch {epoch}. Average loss for this epoch: {avg_loss:05f}')\n",
    "\n",
    "# plt.plot(history)\n",
    "# plt.ylim(0, 0.1)\n"
   ]
  },
  {
   "cell_type": "code",
   "execution_count": null,
   "metadata": {},
   "outputs": [],
   "source": [
    "# n_steps = 5\n",
    "# x = torch.rand(8, 1, 28, 28).to(device)\n",
    "# step_history = [x.detach().cpu()]\n",
    "# pred_output_history = []\n",
    "\n",
    "# for i in range(n_steps):\n",
    "#     with torch.no_grad():\n",
    "#         pred = net(x)\n",
    "#     pred_output_history.append(pred.detach().cpu())\n",
    "\n",
    "#     mix_factor = 1/(n_steps - i)\n",
    "#     x = x*(1-mix_factor) + pred*mix_factor\n",
    "#     step_history.append(x.detach().cpu())\n",
    "\n",
    "# _, axs = plt.subplots(n_steps, 2, figsize=(9, 4), sharex=True)\n",
    "# axs[0,0].set_title('x (model input)')\n",
    "# axs[0,1].set_title('model prediction')\n",
    "# for i in range(n_steps):\n",
    "#     axs[i, 0].imshow(torchvision.utils.make_grid(step_history[i])[0].clip(0, 1), cmap='Greys')\n",
    "#     axs[i, 1].imshow(torchvision.utils.make_grid(pred_output_history[i])[0].clip(0, 1), cmap='Greys')\n"
   ]
  },
  {
   "cell_type": "code",
   "execution_count": null,
   "metadata": {},
   "outputs": [],
   "source": [
    "# n_steps = 40\n",
    "# x = torch.rand(64, 1, 28, 28).to(device)\n",
    "\n",
    "# for i in range(n_steps):\n",
    "#   with torch.no_grad():\n",
    "#     pred = net(x)\n",
    "#   mix_factor = 1/(n_steps - i)\n",
    "#   x = x*(1-mix_factor) + pred*mix_factor\n",
    "\n",
    "# fig, ax = plt.subplots(1, 1, figsize=(12, 12))\n",
    "# ax.imshow(torchvision.utils.make_grid(x.detach().cpu(), nrow=8)[0].clip(0, 1), cmap='Greys')"
   ]
  },
  {
   "cell_type": "code",
   "execution_count": 919,
   "metadata": {},
   "outputs": [
    {
     "name": "stdout",
     "output_type": "stream",
     "text": [
      "Epoch 250/250, Loss: 0.0043470705859363086"
     ]
    },
    {
     "data": {
      "image/png": "[encoded data removed]",
      "text/plain": [
       "<Figure size 640x480 with 1 Axes>"
      ]
     },
     "metadata": {},
     "output_type": "display_data"
    }
   ],
   "source": [
    "import torch\n",
    "import torch.nn as nn\n",
    "import torch.optim as optim\n",
    "from torchvision import datasets, transforms\n",
    "from torch.utils.data import DataLoader\n",
    "import numpy as np\n",
    "import matplotlib.pyplot as plt\n",
    "import cv2\n",
    "import os\n",
    "\n",
    "transform = transforms.Compose([\n",
    "    transforms.Resize((64, 64)),\n",
    "    transforms.ToTensor(),\n",
    "])\n",
    "\n",
    "dataset = datasets.ImageFolder(root=\"SkinData/data\", transform=transform)\n",
    "dataloader = DataLoader(dataset, shuffle=True)\n",
    "\n",
    "class DiffusionModel(nn.Module):\n",
    "    def __init__(self, input_dim, hidden_dim, output_dim):\n",
    "        super(DiffusionModel, self).__init__()\n",
    "        self.fc1 = nn.Linear(input_dim, hidden_dim)\n",
    "        self.fc2 = nn.Linear(hidden_dim, hidden_dim)\n",
    "        self.fc3 = nn.Linear(hidden_dim, output_dim)\n",
    "\n",
    "    def forward(self, x):\n",
    "        x = torch.relu(self.fc1(x))\n",
    "        x = torch.relu(self.fc2(x))\n",
    "        x = torch.sigmoid(self.fc3(x))\n",
    "        return x\n",
    "\n",
    "input_dim = 64 * 64 * 3  # 64x64のRGB画像\n",
    "model = DiffusionModel(input_dim=input_dim, hidden_dim=10, output_dim=input_dim)\n",
    "criterion = nn.MSELoss()\n",
    "optimizer = optim.Adam(model.parameters(), lr=0.001)\n",
    "\n",
    "num_epochs = 250\n",
    "for epoch in range(num_epochs):\n",
    "    for data in dataloader:\n",
    "        images, _ = data\n",
    "        images = images.view(images.size(0), -1)\n",
    "        optimizer.zero_grad()\n",
    "        outputs = model(images)\n",
    "        loss = criterion(outputs, images)\n",
    "        loss.backward()\n",
    "        optimizer.step()\n",
    "    print(f\"\\rEpoch {epoch+1}/{num_epochs}, Loss: {loss.item()}\",end=\"\")\n",
    "\n",
    "generated_images = model(torch.randn(1, input_dim))\n",
    "generated_images = generated_images.view(3, 64, 64).detach().numpy()\n",
    "\n",
    "plt.imshow(np.transpose(generated_images, (1, 2, 0)))\n",
    "plt.axis('off')\n",
    "plt.show()\n"
   ]
  },
  {
   "cell_type": "code",
   "execution_count": 883,
   "metadata": {},
   "outputs": [
    {
     "data": {
      "image/png": "[encoded data removed]",
      "text/plain": [
       "<Figure size 640x480 with 1 Axes>"
      ]
     },
     "metadata": {},
     "output_type": "display_data"
    }
   ],
   "source": [
    "image_array_scaled = (np.transpose(generated_images, (1, 2, 0)) * 255).astype(np.uint8)\n",
    "img = cv2.cvtColor(image_array_scaled, cv2.COLOR_RGB2BGRA)\n",
    "h, w = img.shape[:2]\n",
    "for i in range(h):\n",
    "    for j in range(w):\n",
    "        b, g, r, a = img[i, j]\n",
    "        if int(b) >= 150 and int(g)+int(r) <= 120:\n",
    "            img[i, j] = 0,0,0,0\n",
    "        # elif (int(b) >= 100 and int(g)+int(r) <= 250) and (32<= j and i <= 15) or (32 <= i <= 47) or (j <= 15 and 48 <= i) or (46 <= j and 48 <= i):\n",
    "        #     if b >= 80:\n",
    "        #         img[i, j] = b-80,g,r,255-b//2\n",
    "        #     else:\n",
    "        #         img[i, j] = 0,g,r,255-b//2\n",
    "\n",
    "dir_path = \"Created_Skin/\"\n",
    "files = os.listdir(dir_path)\n",
    "cv2.imwrite(f'{dir_path}ai_{len(files)+1}.png', img)\n",
    "plt.imshow(cv2.cvtColor(img, cv2.COLOR_BGRA2RGB))\n",
    "plt.show()"
   ]
  }
 ],
 "metadata": {
  "kernelspec": {
   "display_name": "Python 3",
   "language": "python",
   "name": "python3"
  },
  "language_info": {
   "codemirror_mode": {
    "name": "ipython",
    "version": 3
   },
   "file_extension": ".py",
   "mimetype": "text/x-python",
   "name": "python",
   "nbconvert_exporter": "python",
   "pygments_lexer": "ipython3",
   "version": "3.10.5"
  }
 },
 "nbformat": 4,
 "nbformat_minor": 2
}
