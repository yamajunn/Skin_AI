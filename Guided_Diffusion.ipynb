{
 "cells": [
  {
   "cell_type": "code",
   "execution_count": 466,
   "metadata": {},
   "outputs": [],
   "source": [
    "import torch\n",
    "import torch.nn as nn\n",
    "import torch.optim as optim\n",
    "from torchvision import transforms\n",
    "from torchvision.datasets import ImageFolder\n",
    "from torch.utils.data import DataLoader\n",
    "from tqdm import tqdm\n",
    "from PIL import Image\n",
    "import os\n",
    "import matplotlib.pyplot as plt\n",
    "import torchvision\n",
    "import cv2\n",
    "import random\n",
    "from IPython.display import clear_output"
   ]
  },
  {
   "cell_type": "code",
   "execution_count": null,
   "metadata": {},
   "outputs": [],
   "source": [
    "# デバイスの設定\n",
    "device = torch.device(\"cuda\" if torch.cuda.is_available() else \"cpu\")"
   ]
  },
  {
   "cell_type": "code",
   "execution_count": null,
   "metadata": {},
   "outputs": [],
   "source": [
    "class RGBADataset(torch.utils.data.Dataset):\n",
    "    def __init__(self, root, transform=None):\n",
    "        self.root = root\n",
    "        self.transform = transform\n",
    "        self.image_paths = [os.path.join(root, f) for f in os.listdir(root) if os.path.isfile(os.path.join(root, f))]\n",
    "\n",
    "    def __len__(self):\n",
    "        return len(self.image_paths)\n",
    "\n",
    "    def __getitem__(self, idx):\n",
    "        image_path = self.image_paths[idx]\n",
    "        image = Image.open(image_path).convert(\"RGBA\")\n",
    "        if self.transform:\n",
    "            image = self.transform(image)\n",
    "        return image, 0  # 0を返すことで2つの値を返すようにする"
   ]
  },
  {
   "cell_type": "code",
   "execution_count": 483,
   "metadata": {},
   "outputs": [],
   "source": [
    "# データセットの準備\n",
    "transform = transforms.Compose([\n",
    "    transforms.Resize((64, 64)),\n",
    "    transforms.ToTensor(),\n",
    "])\n",
    "dataset = RGBADataset(\"../../Skins/Skins\", transform=transform)"
   ]
  },
  {
   "cell_type": "code",
   "execution_count": 484,
   "metadata": {},
   "outputs": [
    {
     "name": "stdout",
     "output_type": "stream",
     "text": [
      "945061\n"
     ]
    }
   ],
   "source": [
    "num_samples = 10000\n",
    "print(len(dataset))\n",
    "subset_indices = random.sample(range(len(dataset)), num_samples)\n",
    "num_skins = [dataset[i] for i in subset_indices]\n",
    "\n",
    "dataloader = torch.utils.data.DataLoader(num_skins)"
   ]
  },
  {
   "cell_type": "code",
   "execution_count": 501,
   "metadata": {},
   "outputs": [],
   "source": [
    "# Encoder-Decoderモデルの定義\n",
    "class EncoderDecoder(nn.Module):\n",
    "    def __init__(self):\n",
    "        super(EncoderDecoder, self).__init__()\n",
    "        self.encoder = nn.Sequential(\n",
    "            nn.Conv2d(4, 64, 3, stride=2, padding=1),  # 入力チャンネル数を4に変更\n",
    "            nn.ReLU(),\n",
    "            nn.Conv2d(64, 128, 3, stride=2, padding=1),\n",
    "            nn.ReLU(),\n",
    "        )\n",
    "        self.decoder = nn.Sequential(\n",
    "            nn.ConvTranspose2d(128, 64, 4, stride=2, padding=1),\n",
    "            nn.ReLU(),\n",
    "            nn.ConvTranspose2d(64, 4, 4, stride=2, padding=1),  # 出力チャンネル数を4に変更\n",
    "            nn.Sigmoid(),  # 出力値を0から1の範囲に制限\n",
    "        )\n",
    "\n",
    "    def forward(self, x):\n",
    "        x = self.encoder(x)\n",
    "        x = self.decoder(x)\n",
    "        return x\n",
    "\n",
    "# モデルをデバイスに配置\n",
    "model = EncoderDecoder().to(device)"
   ]
  },
  {
   "cell_type": "code",
   "execution_count": 502,
   "metadata": {},
   "outputs": [],
   "source": [
    "# 損失関数と最適化手法の設定\n",
    "criterion = nn.MSELoss()\n",
    "optimizer = optim.Adam(model.parameters(), lr=0.001)"
   ]
  },
  {
   "cell_type": "code",
   "execution_count": 503,
   "metadata": {},
   "outputs": [
    {
     "name": "stderr",
     "output_type": "stream",
     "text": [
      "100%|██████████| 10000/10000 [00:41<00:00, 238.48it/s]\n",
      "100%|██████████| 10000/10000 [00:41<00:00, 238.20it/s]\n",
      "100%|██████████| 10000/10000 [00:41<00:00, 238.55it/s]\n",
      "100%|██████████| 10000/10000 [00:42<00:00, 237.85it/s]\n",
      "100%|██████████| 10000/10000 [00:42<00:00, 237.71it/s]\n",
      "100%|██████████| 10000/10000 [00:41<00:00, 240.27it/s]\n",
      "100%|██████████| 10000/10000 [00:41<00:00, 240.12it/s]\n",
      "100%|██████████| 10000/10000 [00:42<00:00, 235.80it/s]\n",
      "100%|██████████| 10000/10000 [00:42<00:00, 237.82it/s]\n",
      "100%|██████████| 10000/10000 [00:42<00:00, 236.70it/s]\n"
     ]
    }
   ],
   "source": [
    "# 訓練ループ\n",
    "num_epochs = 10\n",
    "for epoch in range(num_epochs):\n",
    "    for data in tqdm(dataloader):\n",
    "        inputs, _ = data\n",
    "        inputs = inputs.to(device)\n",
    "\n",
    "        optimizer.zero_grad()\n",
    "\n",
    "        outputs = model(inputs)\n",
    "        loss = criterion(outputs, inputs)\n",
    "\n",
    "        loss.backward()\n",
    "        optimizer.step()\n",
    "\n",
    "    # clear_output(True)\n",
    "    # print(f\"\\rEpoch {epoch+1}/{num_epochs}, Loss: {loss.item()}\",end=\"\")"
   ]
  },
  {
   "cell_type": "code",
   "execution_count": 519,
   "metadata": {},
   "outputs": [],
   "source": [
    "# モデルの保存\n",
    "torch.save(model.state_dict(), \"Guided_Diffusion/guided_diffusion_model.pth\")"
   ]
  },
  {
   "cell_type": "code",
   "execution_count": 520,
   "metadata": {},
   "outputs": [
    {
     "data": {
      "text/plain": [
       "EncoderDecoder(\n",
       "  (encoder): Sequential(\n",
       "    (0): Conv2d(4, 64, kernel_size=(3, 3), stride=(2, 2), padding=(1, 1))\n",
       "    (1): ReLU()\n",
       "    (2): Conv2d(64, 128, kernel_size=(3, 3), stride=(2, 2), padding=(1, 1))\n",
       "    (3): ReLU()\n",
       "  )\n",
       "  (decoder): Sequential(\n",
       "    (0): ConvTranspose2d(128, 64, kernel_size=(4, 4), stride=(2, 2), padding=(1, 1))\n",
       "    (1): ReLU()\n",
       "    (2): ConvTranspose2d(64, 4, kernel_size=(4, 4), stride=(2, 2), padding=(1, 1))\n",
       "    (3): Sigmoid()\n",
       "  )\n",
       ")"
      ]
     },
     "execution_count": 520,
     "metadata": {},
     "output_type": "execute_result"
    }
   ],
   "source": [
    "# モデルのインスタンス化\n",
    "model = EncoderDecoder()\n",
    "model.load_state_dict(torch.load(\"Guided_Diffusion/guided_diffusion_model.pth\"))\n",
    "model.eval()"
   ]
  },
  {
   "cell_type": "code",
   "execution_count": 521,
   "metadata": {},
   "outputs": [],
   "source": [
    "# 生成するデータ数とノイズの次元を指定\n",
    "num_samples = 1\n",
    "noise_dim = 10\n",
    "\n",
    "# ランダムなノイズベクトルを生成\n",
    "z = torch.randn(num_samples, noise_dim)\n",
    "\n",
    "# 入力データの生成（サイズは64x64）\n",
    "z = torch.randn(1, 4, 64, 64)\n",
    "\n",
    "# モデルに入力データを渡して画像を生成\n",
    "with torch.no_grad():\n",
    "    generated_image = model(z)"
   ]
  },
  {
   "cell_type": "code",
   "execution_count": 522,
   "metadata": {},
   "outputs": [],
   "source": [
    "# dir_path = \"Created_Skin/\"\n",
    "# files = os.listdir(dir_path)\n",
    "# cv2.imwrite(f'{dir_path}ai_{len(files)+1}.png', generated_image.squeeze(0).permute(1, 2, 0).detach().cpu().numpy())"
   ]
  },
  {
   "cell_type": "code",
   "execution_count": 523,
   "metadata": {},
   "outputs": [
    {
     "data": {
      "image/png": "[encoded data removed]",
      "text/plain": [
       "<Figure size 640x480 with 1 Axes>"
      ]
     },
     "metadata": {},
     "output_type": "display_data"
    }
   ],
   "source": [
    "# 画像を表示\n",
    "# print(generated_image)\n",
    "plt.imshow(generated_image.squeeze(0).permute(1, 2, 0).detach().numpy(), interpolation='nearest')\n",
    "plt.axis('off')\n",
    "plt.show()"
   ]
  }
 ],
 "metadata": {
  "kernelspec": {
   "display_name": "Python 3",
   "language": "python",
   "name": "python3"
  },
  "language_info": {
   "codemirror_mode": {
    "name": "ipython",
    "version": 3
   },
   "file_extension": ".py",
   "mimetype": "text/x-python",
   "name": "python",
   "nbconvert_exporter": "python",
   "pygments_lexer": "ipython3",
   "version": "3.10.5"
  }
 },
 "nbformat": 4,
 "nbformat_minor": 2
}
